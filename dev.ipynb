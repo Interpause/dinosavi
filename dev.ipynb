{
 "cells": [
  {
   "attachments": {},
   "cell_type": "markdown",
   "metadata": {},
   "source": [
    "### Testing Notebook while Developing"
   ]
  },
  {
   "cell_type": "code",
   "execution_count": 1,
   "metadata": {},
   "outputs": [],
   "source": [
    "from video_cv_project.models.encoders import create_resnet_encoder\n",
    "from video_cv_project.models.crw import CRW\n",
    "\n",
    "encoder = create_resnet_encoder(del_layers=['layer4'])"
   ]
  },
  {
   "cell_type": "code",
   "execution_count": 2,
   "metadata": {},
   "outputs": [],
   "source": [
    "model = CRW(encoder, edge_dropout=0.0, feat_dropout=0.0, temperature=0.07, head_depth=1)"
   ]
  },
  {
   "cell_type": "code",
   "execution_count": 3,
   "metadata": {},
   "outputs": [
    {
     "data": {
      "text/plain": [
       "===============================================================================================\n",
       "Layer (type:depth-idx)                        Output Shape              Param #\n",
       "===============================================================================================\n",
       "VideoWrapper                                  [1, 256, 8, 80, 80]       --\n",
       "├─ResNet: 1-1                                 [8, 256, 80, 80]          --\n",
       "│    └─Conv2d: 2-1                            [8, 64, 320, 320]         9,408\n",
       "│    └─BatchNorm2d: 2-2                       [8, 64, 320, 320]         128\n",
       "│    └─ReLU: 2-3                              [8, 64, 320, 320]         --\n",
       "│    └─MaxPool2d: 2-4                         [8, 64, 160, 160]         --\n",
       "│    └─Sequential: 2-5                        [8, 64, 160, 160]         --\n",
       "│    │    └─BasicBlock: 3-1                   [8, 64, 160, 160]         73,984\n",
       "│    │    └─BasicBlock: 3-2                   [8, 64, 160, 160]         73,984\n",
       "│    └─Sequential: 2-6                        [8, 128, 80, 80]          --\n",
       "│    │    └─BasicBlock: 3-3                   [8, 128, 80, 80]          230,144\n",
       "│    │    └─BasicBlock: 3-4                   [8, 128, 80, 80]          295,424\n",
       "│    └─Sequential: 2-7                        [8, 256, 80, 80]          --\n",
       "│    │    └─BasicBlock: 3-5                   [8, 256, 80, 80]          919,040\n",
       "│    │    └─BasicBlock: 3-6                   [8, 256, 80, 80]          1,180,672\n",
       "│    └─Identity: 2-8                          [8, 256, 80, 80]          --\n",
       "│    └─Identity: 2-9                          [8, 256, 80, 80]          --\n",
       "│    └─Identity: 2-10                         [8, 256, 80, 80]          --\n",
       "===============================================================================================\n",
       "Total params: 2,782,784\n",
       "Trainable params: 2,782,784\n",
       "Non-trainable params: 0\n",
       "Total mult-adds (G): 172.12\n",
       "===============================================================================================\n",
       "Input size (MB): 39.32\n",
       "Forward/backward pass size (MB): 3250.59\n",
       "Params size (MB): 11.13\n",
       "Estimated Total Size (MB): 3301.04\n",
       "==============================================================================================="
      ]
     },
     "execution_count": 3,
     "metadata": {},
     "output_type": "execute_result"
    }
   ],
   "source": [
    "from torchinfo import summary\n",
    "\n",
    "# Dataloader output tensor: NCTHW\n",
    "summary(encoder, input_size=(1, 3, 8, 640, 640))"
   ]
  },
  {
   "cell_type": "code",
   "execution_count": 4,
   "metadata": {},
   "outputs": [
    {
     "data": {
      "text/plain": [
       "====================================================================================================\n",
       "Layer (type:depth-idx)                             Output Shape              Param #\n",
       "====================================================================================================\n",
       "CRW                                                [1, 128, 8, 64]           --\n",
       "├─VideoWrapper: 1-1                                [64, 256, 8, 8, 8]        --\n",
       "│    └─ResNet: 2-1                                 [512, 256, 8, 8]          --\n",
       "│    │    └─Conv2d: 3-1                            [512, 64, 32, 32]         9,408\n",
       "│    │    └─BatchNorm2d: 3-2                       [512, 64, 32, 32]         128\n",
       "│    │    └─ReLU: 3-3                              [512, 64, 32, 32]         --\n",
       "│    │    └─MaxPool2d: 3-4                         [512, 64, 16, 16]         --\n",
       "│    │    └─Sequential: 3-5                        [512, 64, 16, 16]         147,968\n",
       "│    │    └─Sequential: 3-6                        [512, 128, 8, 8]          525,568\n",
       "│    │    └─Sequential: 3-7                        [512, 256, 8, 8]          2,099,712\n",
       "│    │    └─Identity: 3-8                          [512, 256, 8, 8]          --\n",
       "│    │    └─Identity: 3-9                          [512, 256, 8, 8]          --\n",
       "│    │    └─Identity: 3-10                         [512, 256, 8, 8]          --\n",
       "├─FCHead: 1-2                                      [64, 8, 128]              --\n",
       "│    └─ModuleList: 2-2                             --                        --\n",
       "│    │    └─Linear: 3-11                           [64, 8, 128]              32,896\n",
       "====================================================================================================\n",
       "Total params: 2,815,680\n",
       "Trainable params: 2,815,680\n",
       "Non-trainable params: 0\n",
       "Total mult-adds (G): 110.16\n",
       "====================================================================================================\n",
       "Input size (MB): 25.17\n",
       "Forward/backward pass size (MB): 2080.90\n",
       "Params size (MB): 11.26\n",
       "Estimated Total Size (MB): 2117.33\n",
       "===================================================================================================="
      ]
     },
     "execution_count": 4,
     "metadata": {},
     "output_type": "execute_result"
    }
   ],
   "source": [
    "summary(model, input_size=(1, 8, 192, 64, 64))"
   ]
  },
  {
   "cell_type": "code",
   "execution_count": 11,
   "metadata": {},
   "outputs": [],
   "source": [
    "import torch\n",
    "\n",
    "feats, loss, debug = model(torch.rand(1, 8, 3, 640, 640))"
   ]
  },
  {
   "cell_type": "code",
   "execution_count": 1,
   "metadata": {},
   "outputs": [
    {
     "name": "stdout",
     "output_type": "stream",
     "text": [
      "MapTransform(\n",
      "    ToPILImage()\n",
      "    Resize(size=(256, 256), interpolation=lanczos, max_size=None, antialias=None)\n",
      "    ToTensor()\n",
      "    PatchSplitTransform(size=(64, 64), stride=(32, 32))\n",
      "    MapTransform(\n",
      "        ToPILImage()\n",
      "        RandomResizedCrop(size=(64, 64), scale=(0.8, 0.95), ratio=(1.0, 1.0), interpolation=lanczos), antialias=None)\n",
      "        ToTensor()\n",
      "        Normalize(mean=(0.4914, 0.4822, 0.4465), std=(0.2023, 0.1994, 0.201))\n",
      "    )\n",
      ")\n",
      "torch.Size([8, 3, 480, 480])\n",
      "torch.Size([8, 49, 3, 64, 64])\n"
     ]
    }
   ],
   "source": [
    "from video_cv_project.data.transform import create_train_pipeline\n",
    "import torchvision.transforms.functional as F\n",
    "from PIL import Image\n",
    "\n",
    "transform = create_train_pipeline()\n",
    "im = Image.open('./test.png')\n",
    "im = F.to_tensor(im)[:3]\n",
    "vid = im.repeat(8, 1, 1, 1)\n",
    "print(transform)\n",
    "print(vid.shape)\n",
    "print(transform(vid).shape)"
   ]
  },
  {
   "cell_type": "code",
   "execution_count": null,
   "metadata": {},
   "outputs": [],
   "source": []
  }
 ],
 "metadata": {
  "kernelspec": {
   "display_name": "videocv",
   "language": "python",
   "name": "python3"
  },
  "language_info": {
   "codemirror_mode": {
    "name": "ipython",
    "version": 3
   },
   "file_extension": ".py",
   "mimetype": "text/x-python",
   "name": "python",
   "nbconvert_exporter": "python",
   "pygments_lexer": "ipython3",
   "version": "3.10.9"
  },
  "orig_nbformat": 4,
  "vscode": {
   "interpreter": {
    "hash": "f38522cbbc0cf048e1ecf658f8f379c510cc5bac5fafeb8a7bb65b153e4945b5"
   }
  }
 },
 "nbformat": 4,
 "nbformat_minor": 2
}
